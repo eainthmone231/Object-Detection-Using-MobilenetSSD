{
 "cells": [
  {
   "cell_type": "code",
   "execution_count": 1,
   "id": "478792e8",
   "metadata": {},
   "outputs": [],
   "source": [
    "import numpy as np\n",
    "import cv2\n",
    "import time"
   ]
  },
  {
   "cell_type": "markdown",
   "id": "fbb0e525",
   "metadata": {},
   "source": [
    "# Load model and class names"
   ]
  },
  {
   "cell_type": "code",
   "execution_count": 3,
   "id": "8debc181",
   "metadata": {},
   "outputs": [],
   "source": [
    "#load dnn model\n",
    "model=cv2.dnn.readNet(model='input1/frozen_inference_graph.pb',\n",
    "                      config='input1/ssd_mobilenet_v2_coco_2018_03_29.pbtxt.txt',\n",
    "                      framework='Tensorflow')"
   ]
  },
  {
   "cell_type": "code",
   "execution_count": 4,
   "id": "16f68019",
   "metadata": {},
   "outputs": [],
   "source": [
    "#load coco class names\n",
    "with open('input1/coco_classes.txt','r') as f:\n",
    "    class_names=f.read().split('\\n')"
   ]
  },
  {
   "cell_type": "code",
   "execution_count": 6,
   "id": "c4168b1e",
   "metadata": {},
   "outputs": [],
   "source": [
    "#generate different colors for each class\n",
    "COLORS = np.random.uniform(0, 255, size=(len(class_names), 3))"
   ]
  },
  {
   "cell_type": "markdown",
   "id": "bd5852dc",
   "metadata": {},
   "source": [
    "# Detect on Image"
   ]
  },
  {
   "cell_type": "code",
   "execution_count": 5,
   "id": "dfd723ea",
   "metadata": {},
   "outputs": [],
   "source": [
    "#load input image\n",
    "image=cv2.imread('input1/images/image1.jpg')\n",
    "image_height, image_width, _=image.shape"
   ]
  },
  {
   "cell_type": "code",
   "execution_count": 6,
   "id": "fcf2eaa5",
   "metadata": {},
   "outputs": [],
   "source": [
    "#create blog from image\n",
    "blob = cv2.dnn.blobFromImage(image=image, size=(300, 300), mean=(104, 117, 123), \n",
    "                             swapRB=True)\n",
    "model.setInput(blob)\n",
    "output=model.forward()"
   ]
  },
  {
   "cell_type": "code",
   "execution_count": 7,
   "id": "f0901f28",
   "metadata": {},
   "outputs": [],
   "source": [
    "#loop over each detection\n",
    "for detection in output[0 ,0 , :, :]:\n",
    "    #extract confidence of the detection\n",
    "    confidence=detection[2]\n",
    "    # draw bounding boxes only if the detection confidence is above threshold\n",
    "    if confidence>0.4:\n",
    "        class_id=detection[1]\n",
    "        class_name=class_names[int(class_id)-1]\n",
    "        color=COLORS[int(class_id)]\n",
    "        #get the bounding box coordinates\n",
    "        x = detection[3] * image_width\n",
    "        y = detection[4] * image_height\n",
    "        #get the bounding box width and height\n",
    "        w = detection[5] * image_width\n",
    "        h = detection[6] * image_height\n",
    "        #draw rectangle on detected objects\n",
    "        cv2.rectangle(image, (int(x), int(y)), (int(w), int(h)), color, thickness=2)\n",
    "        # put the class name\n",
    "        cv2.putText(image, class_name, (int(x), int(y - 5)), cv2.FONT_HERSHEY_SIMPLEX, 1, color, 2)"
   ]
  },
  {
   "cell_type": "code",
   "execution_count": null,
   "id": "3f7ea94b",
   "metadata": {},
   "outputs": [],
   "source": [
    "cv2.imshow('image', image)\n",
    "cv2.imwrite('image_result.jpg', image)\n",
    "cv2.waitKey(0)\n",
    "cv2.destroyAllWindows()"
   ]
  },
  {
   "cell_type": "markdown",
   "id": "608bf78b",
   "metadata": {},
   "source": [
    "# Detect on video"
   ]
  },
  {
   "cell_type": "code",
   "execution_count": 7,
   "id": "d069f48d",
   "metadata": {},
   "outputs": [],
   "source": [
    "# capture the video\n",
    "cap = cv2.VideoCapture('input1/video_1.mp4')\n",
    "# get the video frames' width and height \n",
    "frame_width = int(cap.get(3))\n",
    "frame_height = int(cap.get(4))\n",
    "#\n",
    "out = cv2.VideoWriter('video_result.mp4', cv2.VideoWriter_fourcc(*'mp4v'), 30, \n",
    "                      (frame_width, frame_height))\n",
    "\n",
    "# detect objects in each frame of the video\n",
    "while cap.isOpened():\n",
    "    ret, frame = cap.read()\n",
    "    if ret:\n",
    "        image = frame\n",
    "        image_height, image_width, _ = image.shape\n",
    "        # create blob from image\n",
    "        blob = cv2.dnn.blobFromImage(image=image, size=(300, 300), mean=(104, 117, 123), \n",
    "                                     swapRB=True)\n",
    "        # start time to calculate FPS\n",
    "        start = time.time()\n",
    "        model.setInput(blob)\n",
    "        output = model.forward()        \n",
    "        # end time after detection\n",
    "        end = time.time()\n",
    "        # calculate the FPS for current frame detection\n",
    "        fps = 1 / (end-start)\n",
    "        # loop over each of the detections\n",
    "        for detection in output[0, 0, :, :]:\n",
    "            # extract the confidence of the detection\n",
    "            confidence = detection[2]\n",
    "            # draw bounding boxes only if the detection confidence is above threshold\n",
    "            if confidence > .4:\n",
    "                # get the class id\n",
    "                class_id = detection[1]\n",
    "                class_name = class_names[int(class_id)-1]\n",
    "                color = COLORS[int(class_id)]\n",
    "                # get the bounding box coordinates\n",
    "                x = detection[3] * image_width\n",
    "                y = detection[4] * image_height\n",
    "                # get the bounding box width and height\n",
    "                w = detection[5] * image_width\n",
    "                h = detection[6] * image_height\n",
    "                # draw a rectangle on detected objects\n",
    "                cv2.rectangle(image, (int(x), int(y)), (int(w), int(h)), color, thickness=2)\n",
    "                # put the class name text on the detected object\n",
    "                cv2.putText(image, class_name, (int(x), int(y - 5)), cv2.FONT_HERSHEY_SIMPLEX, 1, color, 2)\n",
    "                # put the FPS text on top of the frame\n",
    "                cv2.putText(image, f\"{fps:.2f} FPS\", (20, 30), cv2.FONT_HERSHEY_SIMPLEX, 1, (0, 0, 255), 2) \n",
    "        \n",
    "        cv2.imshow('image', image)\n",
    "        out.write(image)\n",
    "        if cv2.waitKey(10) & 0xFF == ord('q'):\n",
    "            break\n",
    "    else:\n",
    "        break\n",
    "\n",
    "cap.release()\n",
    "cv2.destroyAllWindows()"
   ]
  },
  {
   "cell_type": "code",
   "execution_count": null,
   "id": "3c69e7ec",
   "metadata": {},
   "outputs": [],
   "source": []
  }
 ],
 "metadata": {
  "kernelspec": {
   "display_name": "Python 3",
   "language": "python",
   "name": "python3"
  },
  "language_info": {
   "codemirror_mode": {
    "name": "ipython",
    "version": 3
   },
   "file_extension": ".py",
   "mimetype": "text/x-python",
   "name": "python",
   "nbconvert_exporter": "python",
   "pygments_lexer": "ipython3",
   "version": "3.8.8"
  }
 },
 "nbformat": 4,
 "nbformat_minor": 5
}
